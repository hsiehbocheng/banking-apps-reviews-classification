{
  "nbformat": 4,
  "nbformat_minor": 0,
  "metadata": {
    "colab": {
      "provenance": []
    },
    "kernelspec": {
      "name": "python3",
      "display_name": "Python 3"
    },
    "language_info": {
      "name": "python"
    }
  },
  "cells": [
    {
      "cell_type": "code",
      "execution_count": 2,
      "metadata": {
        "colab": {
          "base_uri": "https://localhost:8080/"
        },
        "id": "bLc7z55pOt5n",
        "outputId": "263a6847-f434-489c-b95f-e50b01166652"
      },
      "outputs": [
        {
          "output_type": "stream",
          "name": "stdout",
          "text": [
            "Downloading...\n",
            "From: https://drive.google.com/uc?id=1xi7zilOJ8qxZgm5vLVjheVKziOfwqiIw\n",
            "To: /content/train_df.xlsx\n",
            "100% 2.14M/2.14M [00:00<00:00, 163MB/s]\n",
            "Downloading...\n",
            "From: https://drive.google.com/uc?id=1ppJhP-wunCc69GTLA9Yc8jXPlHcjYo_l\n",
            "To: /content/test_df.xlsx\n",
            "100% 889k/889k [00:00<00:00, 131MB/s]\n",
            "Downloading...\n",
            "From: https://drive.google.com/uc?id=1Aj4olw8KDH7NrKFLQZeSN_Hfxj8d4uuT\n",
            "To: /content/stopwords.txt\n",
            "100% 7.86k/7.86k [00:00<00:00, 18.3MB/s]\n",
            "Downloading...\n",
            "From: https://drive.google.com/uc?id=1cDHLwy0ZgNxWN5nvCvqWWPNyLwMP1A0d\n",
            "To: /content/dict.txt\n",
            "100% 1.17k/1.17k [00:00<00:00, 3.75MB/s]\n"
          ]
        }
      ],
      "source": [
        "!gdown --fuzzy \"https://docs.google.com/spreadsheets/d/1xi7zilOJ8qxZgm5vLVjheVKziOfwqiIw/edit?usp=drive_link&ouid=103889639646613430352&rtpof=true&sd=true\" -O train_df.xlsx\n",
        "!gdown --fuzzy \"https://docs.google.com/spreadsheets/d/1ppJhP-wunCc69GTLA9Yc8jXPlHcjYo_l/edit?usp=drive_link&ouid=103889639646613430352&rtpof=true&sd=true\" -O test_df.xlsx\n",
        "!gdown --fuzzy \"https://drive.google.com/file/d/1Aj4olw8KDH7NrKFLQZeSN_Hfxj8d4uuT/view?usp=drive_link\" -O stopwords.txt\n",
        "!gdown --fuzzy \"https://drive.google.com/file/d/1cDHLwy0ZgNxWN5nvCvqWWPNyLwMP1A0d/view?usp=drive_link\" -O dict.txt"
      ]
    },
    {
      "cell_type": "code",
      "source": [
        "!pip install -U python-dotenv\n",
        "!pip install -U colab-xterm\n",
        "%load_ext colabxterm"
      ],
      "metadata": {
        "colab": {
          "base_uri": "https://localhost:8080/"
        },
        "id": "JVudJ2Gl3WPR",
        "outputId": "d22c0371-54e7-490f-8d48-0fa0b410b326"
      },
      "execution_count": 3,
      "outputs": [
        {
          "output_type": "stream",
          "name": "stdout",
          "text": [
            "Requirement already satisfied: python-dotenv in /usr/local/lib/python3.10/dist-packages (1.0.1)\n",
            "Requirement already satisfied: colab-xterm in /usr/local/lib/python3.10/dist-packages (0.2.0)\n",
            "Requirement already satisfied: ptyprocess~=0.7.0 in /usr/local/lib/python3.10/dist-packages (from colab-xterm) (0.7.0)\n",
            "Requirement already satisfied: tornado>5.1 in /usr/local/lib/python3.10/dist-packages (from colab-xterm) (6.3.3)\n"
          ]
        }
      ]
    },
    {
      "cell_type": "code",
      "source": [
        "!pip install mlflow"
      ],
      "metadata": {
        "colab": {
          "base_uri": "https://localhost:8080/"
        },
        "id": "kIEKSDeqzcaD",
        "outputId": "0045eee3-21f6-4ce3-bdb9-9739f5548aab"
      },
      "execution_count": 4,
      "outputs": [
        {
          "output_type": "stream",
          "name": "stdout",
          "text": [
            "Requirement already satisfied: mlflow in /usr/local/lib/python3.10/dist-packages (2.13.0)\n",
            "Requirement already satisfied: Flask<4 in /usr/local/lib/python3.10/dist-packages (from mlflow) (2.2.5)\n",
            "Requirement already satisfied: alembic!=1.10.0,<2 in /usr/local/lib/python3.10/dist-packages (from mlflow) (1.13.1)\n",
            "Requirement already satisfied: cachetools<6,>=5.0.0 in /usr/local/lib/python3.10/dist-packages (from mlflow) (5.3.3)\n",
            "Requirement already satisfied: click<9,>=7.0 in /usr/local/lib/python3.10/dist-packages (from mlflow) (8.1.7)\n",
            "Requirement already satisfied: cloudpickle<4 in /usr/local/lib/python3.10/dist-packages (from mlflow) (2.2.1)\n",
            "Requirement already satisfied: docker<8,>=4.0.0 in /usr/local/lib/python3.10/dist-packages (from mlflow) (7.0.0)\n",
            "Requirement already satisfied: entrypoints<1 in /usr/local/lib/python3.10/dist-packages (from mlflow) (0.4)\n",
            "Requirement already satisfied: gitpython<4,>=3.1.9 in /usr/local/lib/python3.10/dist-packages (from mlflow) (3.1.43)\n",
            "Requirement already satisfied: graphene<4 in /usr/local/lib/python3.10/dist-packages (from mlflow) (3.3)\n",
            "Requirement already satisfied: importlib-metadata!=4.7.0,<8,>=3.7.0 in /usr/local/lib/python3.10/dist-packages (from mlflow) (7.0.0)\n",
            "Requirement already satisfied: markdown<4,>=3.3 in /usr/local/lib/python3.10/dist-packages (from mlflow) (3.6)\n",
            "Requirement already satisfied: matplotlib<4 in /usr/local/lib/python3.10/dist-packages (from mlflow) (3.7.1)\n",
            "Requirement already satisfied: numpy<2 in /usr/local/lib/python3.10/dist-packages (from mlflow) (1.25.2)\n",
            "Requirement already satisfied: opentelemetry-api<3,>=1.0.0 in /usr/local/lib/python3.10/dist-packages (from mlflow) (1.24.0)\n",
            "Requirement already satisfied: opentelemetry-sdk<3,>=1.0.0 in /usr/local/lib/python3.10/dist-packages (from mlflow) (1.24.0)\n",
            "Requirement already satisfied: packaging<25 in /usr/local/lib/python3.10/dist-packages (from mlflow) (24.0)\n",
            "Requirement already satisfied: pandas<3 in /usr/local/lib/python3.10/dist-packages (from mlflow) (2.0.3)\n",
            "Requirement already satisfied: protobuf<5,>=3.12.0 in /usr/local/lib/python3.10/dist-packages (from mlflow) (3.20.3)\n",
            "Requirement already satisfied: pyarrow<16,>=4.0.0 in /usr/local/lib/python3.10/dist-packages (from mlflow) (14.0.2)\n",
            "Requirement already satisfied: pytz<2025 in /usr/local/lib/python3.10/dist-packages (from mlflow) (2023.4)\n",
            "Requirement already satisfied: pyyaml<7,>=5.1 in /usr/local/lib/python3.10/dist-packages (from mlflow) (6.0.1)\n",
            "Requirement already satisfied: querystring-parser<2 in /usr/local/lib/python3.10/dist-packages (from mlflow) (1.2.4)\n",
            "Requirement already satisfied: requests<3,>=2.17.3 in /usr/local/lib/python3.10/dist-packages (from mlflow) (2.31.0)\n",
            "Requirement already satisfied: scikit-learn<2 in /usr/local/lib/python3.10/dist-packages (from mlflow) (1.2.2)\n",
            "Requirement already satisfied: scipy<2 in /usr/local/lib/python3.10/dist-packages (from mlflow) (1.11.4)\n",
            "Requirement already satisfied: sqlalchemy<3,>=1.4.0 in /usr/local/lib/python3.10/dist-packages (from mlflow) (2.0.30)\n",
            "Requirement already satisfied: sqlparse<1,>=0.4.0 in /usr/local/lib/python3.10/dist-packages (from mlflow) (0.5.0)\n",
            "Requirement already satisfied: Jinja2<4,>=2.11 in /usr/local/lib/python3.10/dist-packages (from mlflow) (3.1.4)\n",
            "Requirement already satisfied: gunicorn<23 in /usr/local/lib/python3.10/dist-packages (from mlflow) (22.0.0)\n",
            "Requirement already satisfied: Mako in /usr/local/lib/python3.10/dist-packages (from alembic!=1.10.0,<2->mlflow) (1.3.5)\n",
            "Requirement already satisfied: typing-extensions>=4 in /usr/local/lib/python3.10/dist-packages (from alembic!=1.10.0,<2->mlflow) (4.11.0)\n",
            "Requirement already satisfied: urllib3>=1.26.0 in /usr/local/lib/python3.10/dist-packages (from docker<8,>=4.0.0->mlflow) (2.0.7)\n",
            "Requirement already satisfied: Werkzeug>=2.2.2 in /usr/local/lib/python3.10/dist-packages (from Flask<4->mlflow) (3.0.3)\n",
            "Requirement already satisfied: itsdangerous>=2.0 in /usr/local/lib/python3.10/dist-packages (from Flask<4->mlflow) (2.2.0)\n",
            "Requirement already satisfied: gitdb<5,>=4.0.1 in /usr/local/lib/python3.10/dist-packages (from gitpython<4,>=3.1.9->mlflow) (4.0.11)\n",
            "Requirement already satisfied: graphql-core<3.3,>=3.1 in /usr/local/lib/python3.10/dist-packages (from graphene<4->mlflow) (3.2.3)\n",
            "Requirement already satisfied: graphql-relay<3.3,>=3.1 in /usr/local/lib/python3.10/dist-packages (from graphene<4->mlflow) (3.2.0)\n",
            "Requirement already satisfied: aniso8601<10,>=8 in /usr/local/lib/python3.10/dist-packages (from graphene<4->mlflow) (9.0.1)\n",
            "Requirement already satisfied: zipp>=0.5 in /usr/local/lib/python3.10/dist-packages (from importlib-metadata!=4.7.0,<8,>=3.7.0->mlflow) (3.18.1)\n",
            "Requirement already satisfied: MarkupSafe>=2.0 in /usr/local/lib/python3.10/dist-packages (from Jinja2<4,>=2.11->mlflow) (2.1.5)\n",
            "Requirement already satisfied: contourpy>=1.0.1 in /usr/local/lib/python3.10/dist-packages (from matplotlib<4->mlflow) (1.2.1)\n",
            "Requirement already satisfied: cycler>=0.10 in /usr/local/lib/python3.10/dist-packages (from matplotlib<4->mlflow) (0.12.1)\n",
            "Requirement already satisfied: fonttools>=4.22.0 in /usr/local/lib/python3.10/dist-packages (from matplotlib<4->mlflow) (4.51.0)\n",
            "Requirement already satisfied: kiwisolver>=1.0.1 in /usr/local/lib/python3.10/dist-packages (from matplotlib<4->mlflow) (1.4.5)\n",
            "Requirement already satisfied: pillow>=6.2.0 in /usr/local/lib/python3.10/dist-packages (from matplotlib<4->mlflow) (9.4.0)\n",
            "Requirement already satisfied: pyparsing>=2.3.1 in /usr/local/lib/python3.10/dist-packages (from matplotlib<4->mlflow) (3.1.2)\n",
            "Requirement already satisfied: python-dateutil>=2.7 in /usr/local/lib/python3.10/dist-packages (from matplotlib<4->mlflow) (2.8.2)\n",
            "Requirement already satisfied: deprecated>=1.2.6 in /usr/local/lib/python3.10/dist-packages (from opentelemetry-api<3,>=1.0.0->mlflow) (1.2.14)\n",
            "Requirement already satisfied: opentelemetry-semantic-conventions==0.45b0 in /usr/local/lib/python3.10/dist-packages (from opentelemetry-sdk<3,>=1.0.0->mlflow) (0.45b0)\n",
            "Requirement already satisfied: tzdata>=2022.1 in /usr/local/lib/python3.10/dist-packages (from pandas<3->mlflow) (2024.1)\n",
            "Requirement already satisfied: six in /usr/local/lib/python3.10/dist-packages (from querystring-parser<2->mlflow) (1.16.0)\n",
            "Requirement already satisfied: charset-normalizer<4,>=2 in /usr/local/lib/python3.10/dist-packages (from requests<3,>=2.17.3->mlflow) (3.3.2)\n",
            "Requirement already satisfied: idna<4,>=2.5 in /usr/local/lib/python3.10/dist-packages (from requests<3,>=2.17.3->mlflow) (3.7)\n",
            "Requirement already satisfied: certifi>=2017.4.17 in /usr/local/lib/python3.10/dist-packages (from requests<3,>=2.17.3->mlflow) (2024.2.2)\n",
            "Requirement already satisfied: joblib>=1.1.1 in /usr/local/lib/python3.10/dist-packages (from scikit-learn<2->mlflow) (1.4.2)\n",
            "Requirement already satisfied: threadpoolctl>=2.0.0 in /usr/local/lib/python3.10/dist-packages (from scikit-learn<2->mlflow) (3.5.0)\n",
            "Requirement already satisfied: greenlet!=0.4.17 in /usr/local/lib/python3.10/dist-packages (from sqlalchemy<3,>=1.4.0->mlflow) (3.0.3)\n",
            "Requirement already satisfied: wrapt<2,>=1.10 in /usr/local/lib/python3.10/dist-packages (from deprecated>=1.2.6->opentelemetry-api<3,>=1.0.0->mlflow) (1.14.1)\n",
            "Requirement already satisfied: smmap<6,>=3.0.1 in /usr/local/lib/python3.10/dist-packages (from gitdb<5,>=4.0.1->gitpython<4,>=3.1.9->mlflow) (5.0.1)\n"
          ]
        }
      ]
    },
    {
      "cell_type": "code",
      "source": [
        "!pip install openpyxl\n",
        "!pip install jieba\n",
        "!pip install opencc"
      ],
      "metadata": {
        "colab": {
          "base_uri": "https://localhost:8080/"
        },
        "id": "v70zZTQIP71t",
        "outputId": "6aa6ca02-225a-4f03-da70-fb777e05fcf7"
      },
      "execution_count": 5,
      "outputs": [
        {
          "output_type": "stream",
          "name": "stdout",
          "text": [
            "Requirement already satisfied: openpyxl in /usr/local/lib/python3.10/dist-packages (3.1.2)\n",
            "Requirement already satisfied: et-xmlfile in /usr/local/lib/python3.10/dist-packages (from openpyxl) (1.1.0)\n",
            "Requirement already satisfied: jieba in /usr/local/lib/python3.10/dist-packages (0.42.1)\n",
            "Requirement already satisfied: opencc in /usr/local/lib/python3.10/dist-packages (1.1.7)\n"
          ]
        }
      ]
    },
    {
      "cell_type": "code",
      "source": [
        "import os\n",
        "import re\n",
        "from typing import List\n",
        "from pprint import pprint\n",
        "\n",
        "import pandas as pd\n",
        "import numpy as np\n",
        "from opencc import OpenCC\n",
        "import jieba\n",
        "\n",
        "\n",
        "from sklearn.model_selection import train_test_split"
      ],
      "metadata": {
        "id": "4M_c1AKMPg_M"
      },
      "execution_count": 6,
      "outputs": []
    },
    {
      "cell_type": "code",
      "source": [
        "train_df = pd.read_excel(\"train_df.xlsx\")\n",
        "test_df = pd.read_excel(\"test_df.xlsx\")\n",
        "\n",
        "train_df['text'] = train_df['text'].apply(lambda x: str(x))\n",
        "test_df['text'] = test_df['text'].apply(lambda x: str(x))\n",
        "\n",
        "train_df = train_df[['index', 'text', 'score']]\n",
        "test_df = test_df[['index', 'text']]"
      ],
      "metadata": {
        "id": "C6_8AjqlQMmT"
      },
      "execution_count": 7,
      "outputs": []
    },
    {
      "cell_type": "code",
      "source": [
        "train_df, dev_df = train_test_split(train_df,\n",
        "                                    test_size=0.2,\n",
        "                                    stratify=train_df['score'],\n",
        "                                    random_state=42)"
      ],
      "metadata": {
        "id": "hQaAlMYCVBDp"
      },
      "execution_count": 8,
      "outputs": []
    },
    {
      "cell_type": "code",
      "source": [
        "cc = OpenCC('s2t')\n",
        "train_df['text'] = train_df['text'].apply(lambda x: cc.convert(x))\n",
        "test_df['text'] = test_df['text'].apply(lambda x: cc.convert(x))\n",
        "dev_df['text'] = dev_df['text'].apply(lambda x: cc.convert(x))\n",
        "\n",
        "jieba.initialize()\n",
        "jieba.load_userdict('dict.txt')\n",
        "\n",
        "train_df['ckip_ws'] = train_df['text'].apply(lambda x: jieba.lcut(x))\n",
        "test_df['ckip_ws'] = test_df['text'].apply(lambda x: jieba.lcut(x))\n",
        "dev_df['ckip_ws'] = dev_df['text'].apply(lambda x: jieba.lcut(x))"
      ],
      "metadata": {
        "colab": {
          "base_uri": "https://localhost:8080/"
        },
        "id": "LBvwdp9FnvKw",
        "outputId": "83d2c1e3-44b3-4e28-ff4d-86289d836458"
      },
      "execution_count": 9,
      "outputs": [
        {
          "output_type": "stream",
          "name": "stderr",
          "text": [
            "Building prefix dict from the default dictionary ...\n",
            "DEBUG:jieba:Building prefix dict from the default dictionary ...\n",
            "Loading model from cache /tmp/jieba.cache\n",
            "DEBUG:jieba:Loading model from cache /tmp/jieba.cache\n",
            "Loading model cost 1.341 seconds.\n",
            "DEBUG:jieba:Loading model cost 1.341 seconds.\n",
            "Prefix dict has been built successfully.\n",
            "DEBUG:jieba:Prefix dict has been built successfully.\n"
          ]
        }
      ]
    },
    {
      "cell_type": "code",
      "source": [
        "train_df['ckip_ws'] = train_df['ckip_ws'].apply(lambda x: \" \".join(x))\n",
        "test_df['ckip_ws'] = test_df['ckip_ws'].apply(lambda x: \" \".join(x))\n",
        "dev_df['ckip_ws'] = dev_df['ckip_ws'].apply(lambda x: \" \".join(x))"
      ],
      "metadata": {
        "id": "J8xvCut8oyfg"
      },
      "execution_count": 10,
      "outputs": []
    },
    {
      "cell_type": "code",
      "source": [
        "train_df.reset_index(drop=True, inplace=True)\n",
        "dev_df.reset_index(drop=True, inplace=True)\n",
        "dev_df.reset_index(drop=True, inplace=True)"
      ],
      "metadata": {
        "id": "v5b17wR2VRzY"
      },
      "execution_count": 11,
      "outputs": []
    },
    {
      "cell_type": "code",
      "source": [
        "from keras.models import Model\n",
        "from keras.layers import LSTM, Activation, Dense, Dropout, Input, Embedding\n",
        "from keras.optimizers import RMSprop\n",
        "from keras.preprocessing.text import Tokenizer\n",
        "from keras.preprocessing import sequence\n",
        "from keras.utils import to_categorical\n",
        "from keras.callbacks import EarlyStopping"
      ],
      "metadata": {
        "id": "q6x4LLk-UyA7"
      },
      "execution_count": 12,
      "outputs": []
    },
    {
      "cell_type": "code",
      "source": [
        "from sklearn.preprocessing import LabelEncoder"
      ],
      "metadata": {
        "id": "0r9QFyWZWIOg"
      },
      "execution_count": 13,
      "outputs": []
    },
    {
      "cell_type": "code",
      "source": [
        "train_X = train_df.ckip_ws\n",
        "dev_X = dev_df.ckip_ws\n",
        "test_X = test_df.ckip_ws\n",
        "\n",
        "y_encoder = LabelEncoder()\n",
        "\n",
        "train_y = y_encoder.fit_transform(train_df.score).reshape(-1, 1)\n",
        "dev_y = y_encoder.transform(dev_df.score).reshape(-1, 1)"
      ],
      "metadata": {
        "id": "AV2XmiD9U07q"
      },
      "execution_count": 14,
      "outputs": []
    },
    {
      "cell_type": "code",
      "source": [
        "MAX_WORDS = 20_000\n",
        "MAX_LEN = train_df.ckip_ws.str.split(\" \").apply(lambda x: len(x)).max()\n",
        "tokenizer = Tokenizer(num_words = MAX_WORDS,\n",
        "                      lower=True)\n",
        "tokenizer.fit_on_texts(train_X)"
      ],
      "metadata": {
        "id": "ViscpJBYkW1l"
      },
      "execution_count": 15,
      "outputs": []
    },
    {
      "cell_type": "code",
      "source": [
        "train_sequences = tokenizer.texts_to_sequences(train_X)\n",
        "dev_sequences = tokenizer.texts_to_sequences(dev_X)\n",
        "test_sequences = tokenizer.texts_to_sequences(test_X)"
      ],
      "metadata": {
        "id": "nhQ8UYpXl2jD"
      },
      "execution_count": 16,
      "outputs": []
    },
    {
      "cell_type": "code",
      "source": [
        "train_sequences_matrix = sequence.pad_sequences(train_sequences,\n",
        "                                          maxlen=MAX_LEN)\n",
        "dev_sequences_matrix = sequence.pad_sequences(dev_sequences,\n",
        "                                          maxlen=MAX_LEN)\n",
        "test_sequences_matrix = sequence.pad_sequences(test_sequences,\n",
        "                                          maxlen=MAX_LEN)"
      ],
      "metadata": {
        "id": "QS21E9F9pRw8"
      },
      "execution_count": 17,
      "outputs": []
    },
    {
      "cell_type": "code",
      "source": [
        "from keras.layers import Bidirectional\n",
        "from keras.layers import Flatten"
      ],
      "metadata": {
        "id": "2zc2UUlLwWBv"
      },
      "execution_count": 18,
      "outputs": []
    },
    {
      "cell_type": "code",
      "source": [
        "def LSTM_CLS_MODEL():\n",
        "    inputs = Input(name='inputs',shape=[MAX_LEN])\n",
        "    layer = Embedding(input_dim=MAX_WORDS,\n",
        "          output_dim=32,\n",
        "          input_length=MAX_LEN)(inputs)\n",
        "\n",
        "    layer = LSTM(64, return_sequences=True)(layer)\n",
        "    layer = LSTM(32, return_sequences=True)(layer)\n",
        "    layer = LSTM(16, return_sequences=True)(layer)\n",
        "    layer = Flatten()(layer)\n",
        "    layer = Dense(1024,\n",
        "                  name='FC1')(layer)\n",
        "    layer = Activation('relu')(layer)\n",
        "    layer = Dropout(0.3)(layer)\n",
        "    layer = Dense(512,\n",
        "                  name='FC2')(layer)\n",
        "    layer = Activation('relu')(layer)\n",
        "    layer = Dense(5,\n",
        "                  name='output_layer')(layer)\n",
        "    layer = Activation('softmax')(layer)\n",
        "\n",
        "    model = Model(inputs=inputs,\n",
        "                  outputs=layer)\n",
        "    return model"
      ],
      "metadata": {
        "id": "v6qNmAFqqVLb"
      },
      "execution_count": 37,
      "outputs": []
    },
    {
      "cell_type": "code",
      "source": [
        "model = LSTM_CLS_MODEL()"
      ],
      "metadata": {
        "id": "8sGrPvirxWno"
      },
      "execution_count": 38,
      "outputs": []
    },
    {
      "cell_type": "code",
      "source": [
        "model.summary()"
      ],
      "metadata": {
        "colab": {
          "base_uri": "https://localhost:8080/"
        },
        "id": "2UCWEjt4yBZ4",
        "outputId": "ba658935-d3d0-4430-d949-4dade57a6fae"
      },
      "execution_count": 39,
      "outputs": [
        {
          "output_type": "stream",
          "name": "stdout",
          "text": [
            "Model: \"model_1\"\n",
            "_________________________________________________________________\n",
            " Layer (type)                Output Shape              Param #   \n",
            "=================================================================\n",
            " inputs (InputLayer)         [(None, 308)]             0         \n",
            "                                                                 \n",
            " embedding_1 (Embedding)     (None, 308, 32)           640000    \n",
            "                                                                 \n",
            " lstm_3 (LSTM)               (None, 308, 64)           24832     \n",
            "                                                                 \n",
            " lstm_4 (LSTM)               (None, 308, 32)           12416     \n",
            "                                                                 \n",
            " lstm_5 (LSTM)               (None, 308, 16)           3136      \n",
            "                                                                 \n",
            " flatten_1 (Flatten)         (None, 4928)              0         \n",
            "                                                                 \n",
            " FC1 (Dense)                 (None, 1024)              5047296   \n",
            "                                                                 \n",
            " activation_3 (Activation)   (None, 1024)              0         \n",
            "                                                                 \n",
            " dropout_1 (Dropout)         (None, 1024)              0         \n",
            "                                                                 \n",
            " FC2 (Dense)                 (None, 512)               524800    \n",
            "                                                                 \n",
            " activation_4 (Activation)   (None, 512)               0         \n",
            "                                                                 \n",
            " output_layer (Dense)        (None, 5)                 2565      \n",
            "                                                                 \n",
            " activation_5 (Activation)   (None, 5)                 0         \n",
            "                                                                 \n",
            "=================================================================\n",
            "Total params: 6255045 (23.86 MB)\n",
            "Trainable params: 6255045 (23.86 MB)\n",
            "Non-trainable params: 0 (0.00 Byte)\n",
            "_________________________________________________________________\n"
          ]
        }
      ]
    },
    {
      "cell_type": "code",
      "source": [
        "from keras.optimizers import AdamW"
      ],
      "metadata": {
        "id": "3wWpUWBeywgE"
      },
      "execution_count": 40,
      "outputs": []
    },
    {
      "cell_type": "code",
      "source": [
        "import tensorflow as tf\n",
        "print(\"Num GPUs Available: \", len(tf.config.list_physical_devices('GPU')))"
      ],
      "metadata": {
        "colab": {
          "base_uri": "https://localhost:8080/"
        },
        "id": "umtx7LgkzDdD",
        "outputId": "2e57b5e0-e6ec-45a4-9adf-b16dfe3e02a0"
      },
      "execution_count": 41,
      "outputs": [
        {
          "output_type": "stream",
          "name": "stdout",
          "text": [
            "Num GPUs Available:  0\n"
          ]
        }
      ]
    },
    {
      "cell_type": "code",
      "source": [
        "# import mlflow.tensorflow\n",
        "# mlflow.tensorflow.autolog()\n",
        "\n",
        "# mlflow.set_tracking_uri(uri=\"http://127.0.0.1:5000\")\n",
        "\n",
        "# # Create a new MLflow Experiment\n",
        "# mlflow.set_experiment(\"MLflow Quickstart\")"
      ],
      "metadata": {
        "id": "xrtmuV0Nzaq3"
      },
      "execution_count": 42,
      "outputs": []
    },
    {
      "cell_type": "code",
      "source": [
        "model.compile(loss='sparse_categorical_crossentropy',\n",
        "              optimizer=AdamW(0.001),\n",
        "              metrics=['accuracy'])\n",
        "\n",
        "# train model\n",
        "# run = mlflow.start_run()\n",
        "model.fit(train_sequences_matrix,\n",
        "          train_y,\n",
        "          batch_size=128,\n",
        "          epochs=10,\n",
        "          validation_data=(dev_sequences_matrix,\n",
        "                           dev_y),\n",
        "          callbacks=[EarlyStopping(monitor='val_loss',\n",
        "                                   min_delta=0.0001,\n",
        "                                   restore_best_weights=True),\n",
        "                    #  mlflow.keras.MlflowCallback(run)\n",
        "                     ]\n",
        "          )\n",
        "# mlflow.end_run()"
      ],
      "metadata": {
        "colab": {
          "base_uri": "https://localhost:8080/"
        },
        "id": "tDWVGDdqyIWU",
        "outputId": "b8854b77-0f93-40a0-f8b5-0e1902a9fc23"
      },
      "execution_count": 43,
      "outputs": [
        {
          "output_type": "stream",
          "name": "stdout",
          "text": [
            "Epoch 1/10\n",
            "138/138 [==============================] - 185s 1s/step - loss: 1.0636 - accuracy: 0.6232 - val_loss: 0.8572 - val_accuracy: 0.7309\n",
            "Epoch 2/10\n",
            "138/138 [==============================] - 188s 1s/step - loss: 0.7653 - accuracy: 0.7602 - val_loss: 0.7912 - val_accuracy: 0.7579\n",
            "Epoch 3/10\n",
            "138/138 [==============================] - 179s 1s/step - loss: 0.6540 - accuracy: 0.7810 - val_loss: 0.8336 - val_accuracy: 0.7454\n"
          ]
        },
        {
          "output_type": "execute_result",
          "data": {
            "text/plain": [
              "<keras.src.callbacks.History at 0x7c10a1dc0280>"
            ]
          },
          "metadata": {},
          "execution_count": 43
        }
      ]
    },
    {
      "cell_type": "code",
      "source": [
        "model.evaluate(dev_sequences_matrix, dev_y)"
      ],
      "metadata": {
        "colab": {
          "base_uri": "https://localhost:8080/"
        },
        "id": "w0eTjd5H91qh",
        "outputId": "3b6f7132-c8ea-4813-8495-148f04233e60"
      },
      "execution_count": 44,
      "outputs": [
        {
          "output_type": "stream",
          "name": "stdout",
          "text": [
            "138/138 [==============================] - 16s 118ms/step - loss: 0.7912 - accuracy: 0.7579\n"
          ]
        },
        {
          "output_type": "execute_result",
          "data": {
            "text/plain": [
              "[0.791237473487854, 0.7578851580619812]"
            ]
          },
          "metadata": {},
          "execution_count": 44
        }
      ]
    },
    {
      "cell_type": "code",
      "source": [
        "y_pred = model.predict(test_sequences_matrix)\n",
        "y_pred = y_encoder.inverse_transform(np.argmax(y_pred, axis=1))"
      ],
      "metadata": {
        "colab": {
          "base_uri": "https://localhost:8080/"
        },
        "id": "0bRru14639sY",
        "outputId": "63164ecd-b283-40ad-efb8-8ec207452acc"
      },
      "execution_count": 45,
      "outputs": [
        {
          "output_type": "stream",
          "name": "stdout",
          "text": [
            "296/296 [==============================] - 38s 123ms/step\n"
          ]
        }
      ]
    },
    {
      "cell_type": "code",
      "source": [
        "submission_file = test_df.copy()\n",
        "submission_file['pred'] = y_pred\n",
        "submission_file = submission_file[['index', 'pred']]\n",
        "submission_file.to_csv('submission.csv', index=False)"
      ],
      "metadata": {
        "id": "xwcCn-9J8FHj"
      },
      "execution_count": 46,
      "outputs": []
    },
    {
      "cell_type": "code",
      "source": [],
      "metadata": {
        "id": "cXwJqTLp_QRW"
      },
      "execution_count": null,
      "outputs": []
    }
  ]
}