{
 "cells": [
  {
   "cell_type": "code",
   "execution_count": null,
   "metadata": {},
   "outputs": [],
   "source": [
    "import pandas as pd\n",
    "from typing import List\n",
    "from pprint import pprint\n",
    "import numpy as np\n",
    "import re\n",
    "import plotly.express as px\n",
    "from sklearn.model_selection import train_test_split\n",
    "from sklearn.feature_extraction.text import CountVectorizer, TfidfVectorizer"
   ]
  },
  {
   "cell_type": "code",
   "execution_count": null,
   "metadata": {},
   "outputs": [],
   "source": [
    "train_df = pd.read_excel('../data/train_df.xlsx')\n",
    "test_df = pd.read_excel('../data/test_df.xlsx')\n",
    "\n",
    "train_df['ckip_ws'] = train_df['ckip_ws'].apply(lambda x: eval(x))\n",
    "test_df['ckip_ws'] = test_df['ckip_ws'].apply(lambda x: eval(x))\n",
    "\n",
    "train_df['text'] = train_df['text'].apply(lambda x: str(x))\n",
    "test_df['text'] = test_df['text'].apply(lambda x: str(x))"
   ]
  },
  {
   "cell_type": "code",
   "execution_count": null,
   "metadata": {},
   "outputs": [],
   "source": [
    "train_df, dev_df = train_test_split(train_df, \n",
    "                                    test_size=0.2, \n",
    "                                    stratify=train_df['score'], \n",
    "                                    random_state=42)"
   ]
  },
  {
   "cell_type": "code",
   "execution_count": null,
   "metadata": {},
   "outputs": [],
   "source": [
    "from opencc import OpenCC\n",
    "\n",
    "cc = OpenCC('s2t')\n",
    "train_df['text'] = train_df['text'].apply(lambda x: cc.convert(x))\n",
    "test_df['text'] = test_df['text'].apply(lambda x: cc.convert(x))\n",
    "dev_df['text'] = dev_df['text'].apply(lambda x: cc.convert(x))"
   ]
  },
  {
   "cell_type": "code",
   "execution_count": null,
   "metadata": {},
   "outputs": [],
   "source": [
    "import jieba\n",
    "jieba.initialize()\n",
    "jieba.load_userdict('../data/dict.txt')\n",
    "\n",
    "train_df['ckip_ws'] = train_df['text'].apply(lambda x: jieba.lcut(x))\n",
    "test_df['ckip_ws'] = test_df['text'].apply(lambda x: jieba.lcut(x))\n",
    "dev_df['ckip_ws'] = dev_df['text'].apply(lambda x: jieba.lcut(x))"
   ]
  },
  {
   "cell_type": "code",
   "execution_count": null,
   "metadata": {},
   "outputs": [],
   "source": [
    "emoji_pattern = r'[\\U0001F300-\\U0001F5FF]|[\\U0001F600-\\U0001F64F\\U0001F680-\\U0001F6FF]|[\\u2600-\\u2B55]'\n",
    "number_pattern = r'\\d+'\n",
    "english_pattern = r'[a-zA-Z]+'\n",
    "punctuation_pattern = r'(?!！|!|\\?|？|_|__)[^\\w\\s]'\n",
    "url_pattern = r'https?://\\S+|www\\.\\S+'\n",
    "invite_word_pattern = r'(輸入|輸入:|輸入：|我的)?(邀請碼|推薦碼)' # 註：train 中，此 pattern 與 r'邀請碼|推薦碼' 結果相同\n",
    "invite_code_pattern = r'(?!GOOD|NICE|BEST|GREAT|COOL|HAPPY|LOVE)[A-Z0-9]{4,6}$'"
   ]
  },
  {
   "cell_type": "code",
   "execution_count": null,
   "metadata": {},
   "outputs": [],
   "source": [
    "# ref: https://segmentfault.com/a/1190000007594620\n",
    "emoji_pattern = r'[\\U0001F300-\\U0001F5FF]|[\\U0001F600-\\U0001F64F\\U0001F680-\\U0001F6FF]|[\\u2600-\\u2B55]'\n",
    "number_pattern = r'\\d+'\n",
    "english_pattern = r'[a-zA-Z]+'\n",
    "invite_word_pattern = r'(輸入|輸入:|輸入：|我的)?(邀請碼|推薦碼)' # 註：train 中，此 pattern 與 r'邀請碼|推薦碼' 結果相同\n",
    "invite_code_pattern = r'(?!GOOD|NICE|BEST|GREAT|COOL|HAPPY)[A-Z0-9]{4,8}'\n",
    "product_pattern = r'android\\d{0,2}|google\\d{0,2}|pixel\\d{0,2}'\n",
    "\n",
    "emoji_matches = train_df[train_df['text'].str.contains(emoji_pattern, na=False)]\n",
    "num_matches = train_df[train_df['text'].str.contains(number_pattern, na=False)]\n",
    "en_matches = train_df[train_df['text'].str.contains(english_pattern, na=False)]\n",
    "invite_word_matches = train_df[train_df['text'].str.contains(invite_word_pattern, na=False)]\n",
    "invite_code_matches = train_df[train_df['text'].str.contains(invite_code_pattern, na=False)]"
   ]
  },
  {
   "cell_type": "code",
   "execution_count": null,
   "metadata": {},
   "outputs": [],
   "source": [
    "from sklearn.preprocessing import MultiLabelBinarizer\n",
    "mlb = MultiLabelBinarizer()\n",
    "emoji_matches.reset_index(drop=True, inplace=True)\n",
    "emojis = emoji_matches['text'].apply(lambda x: re.findall(emoji_pattern, x))\n",
    "emoji_matches['emoji'] = emojis\n",
    "\n",
    "\n",
    "emoji_matches = emoji_matches[['emoji', 'score']]\n",
    "one_hot_emoji = mlb.fit_transform(emoji_matches['emoji'])\n",
    "one_hot_emoji = pd.DataFrame(one_hot_emoji, columns=mlb.classes_)\n",
    "emojis = one_hot_emoji.columns.tolist()\n",
    "\n",
    "one_hot_emoji['score'] = emoji_matches['score']"
   ]
  },
  {
   "cell_type": "code",
   "execution_count": null,
   "metadata": {},
   "outputs": [],
   "source": [
    "emoji_cnt = {emoji: {'5 顆星': 0, '2 顆星': 0, '1 顆星': 0, '4 顆星': 0, '3 顆星': 0} \n",
    "             for emoji in emojis}\n",
    "for emoji in emojis:\n",
    "    df = one_hot_emoji[one_hot_emoji[emoji] == 1]\n",
    "    emoji_cnt[emoji].update(df['score'].value_counts().to_dict())\n",
    "pprint(emoji_cnt)"
   ]
  },
  {
   "cell_type": "code",
   "execution_count": null,
   "metadata": {},
   "outputs": [],
   "source": [
    "remove_emoji = [emoji for emoji, cnt in emoji_cnt.items() if sum(cnt.values()) < 2]\n",
    "print(remove_emoji)"
   ]
  },
  {
   "cell_type": "code",
   "execution_count": null,
   "metadata": {},
   "outputs": [],
   "source": [
    "# 找到每個 emoji 的最大評分星級\n",
    "emoji_cluster_mapping = {}\n",
    "for emoji, rating_dict in emoji_cnt.items():\n",
    "    # 尋找字典中最大值對應的星級\n",
    "    max_star = max(rating_dict, key=rating_dict.get)\n",
    "    emoji_cluster_mapping[emoji] = max_star\n",
    "\n",
    "def cluster_emoji(text,\n",
    "                  emoji_cluster_mapping=emoji_cluster_mapping,\n",
    "                  emoji_pattern=r'[\\U0001F300-\\U0001F5FF]|[\\U0001F600-\\U0001F64F\\U0001F680-\\U0001F6FF]|[\\u2600-\\u2B55]') -> float:\n",
    "    '''\n",
    "    分配 emoji 給不同類別\n",
    "    初步作法：先以 value counts 最多的評分類別，做為 cluster 分配給該 emoji\n",
    "    '''\n",
    "    found_emojis = re.findall(emoji_pattern, text)\n",
    "    if not found_emojis:\n",
    "        return '無資訊'\n",
    "    ratings = [int(emoji_cluster_mapping[emoji][0]) for emoji in found_emojis if emoji in emoji_cluster_mapping]\n",
    "\n",
    "    if not ratings:\n",
    "        return '無資訊'  # 所有找到的 emoji 都不在映射表中\n",
    "\n",
    "    # 如果只有一個分類，直接返回\n",
    "    if len(ratings) == 1:\n",
    "        return str(int(ratings[0])) + ' 顆星'\n",
    "    # 如果有多個，計算平均值\n",
    "    else:\n",
    "        average_rating = sum(ratings) / len(ratings)\n",
    "        return str(int(np.ceil(average_rating))) + ' 顆星'  # 回傳平均值，格式化為一位小數"
   ]
  },
  {
   "cell_type": "code",
   "execution_count": null,
   "metadata": {},
   "outputs": [],
   "source": [
    "with open('../data/stopwords.txt', 'r') as f:\n",
    "    stopwords = f.read().splitlines()\n",
    "\n",
    "def clean_func(word_seg_result: List[str],\n",
    "               stop_words_list: List[str] = stopwords,\n",
    "               remove_emoji = remove_emoji,\n",
    "               emoji_pattern = emoji_pattern,\n",
    "               url_pattern = url_pattern,\n",
    "               number_pattern = r'\\d+',\n",
    "               punctuation_pattern = punctuation_pattern,\n",
    "               invite_code_pattern = invite_code_pattern) -> str:\n",
    "    '''\n",
    "    1. remove duplicate emoji within each text\n",
    "    2. lowercase the text\n",
    "    3. remove punctuation\n",
    "    4. remove stopwords\n",
    "    5. remove url\n",
    "    6. remove numbers\n",
    "    7. remove emojie less than 2 times\n",
    "    8. remove invite code\n",
    "    \n",
    "    Return[str] the word segmented text joined by space\n",
    "    '''\n",
    "    \n",
    "    new_word_seg_result = []\n",
    "    emojis_set = set()\n",
    "    # text_length_cum_sum = 0\n",
    "    for text in word_seg_result:\n",
    "        # emojis_set = emojis_set.union(set(re.findall(emoji_pattern, text)))\n",
    "        # text = text if len(text) == 1 else re.sub(emoji_pattern, '', text)\n",
    "        # text = text if len(text) == 1 else re.sub(punctuation_pattern, '', text)\n",
    "        # text = text if len(text) == 1 else re.sub(url_pattern, '', text)\n",
    "        # text = text if len(text) == 1 else re.sub(invite_code_pattern, '', text)\n",
    "        # text = text if len(text) == 1 else re.sub(number_pattern, '', text)\n",
    "        # text = text if len(text) == 1 else text.lower()\n",
    "        \n",
    "        text = re.sub(emoji_pattern, '', text)\n",
    "        text = re.sub(punctuation_pattern, '', text)\n",
    "        text = re.sub(url_pattern, '', text)\n",
    "        text = text if not re.match(invite_code_pattern, text) else '' \n",
    "        text = text if not re.match(number_pattern, text) else ''\n",
    "        text = text.lower()\n",
    "        \n",
    "        new_word_seg_result.append(text)\n",
    "        \n",
    "    emojis_set = emojis_set - set(remove_emoji)\n",
    "    if emojis_set:\n",
    "        for emoji in emojis_set:\n",
    "            new_word_seg_result.append(emoji)\n",
    "            \n",
    "    result = \" \".join([text for text in new_word_seg_result if text not in stop_words_list])\n",
    "    \n",
    "    if not result:\n",
    "        result = \" \".join([text for text in new_word_seg_result])\n",
    "    \n",
    "    return result"
   ]
  },
  {
   "cell_type": "code",
   "execution_count": null,
   "metadata": {},
   "outputs": [],
   "source": [
    "def feature_extraction(data: pd.DataFrame, \n",
    "                       is_test: bool =True) -> pd.DataFrame:\n",
    "    \n",
    "    result_df = data.copy()\n",
    "    result_df['original_comment_len'] = result_df['text'].apply(lambda x: len(x))\n",
    "    result_df['comment_len'] = result_df['ckip_ws'].apply(lambda x: len(x))\n",
    "    result_df['emoji_cluster'] = result_df['text'].apply(lambda x: cluster_emoji(x))\n",
    "    result_df['cleaned_text'] = result_df['ckip_ws'].apply(lambda x: clean_func(x))\n",
    "    \n",
    "    \n",
    "    column_set = ['index', \n",
    "                'text', \n",
    "                'ckip_ws', \n",
    "                'cleaned_text', \n",
    "                # 'is_invite', \n",
    "                # 'only_punc',\n",
    "                # 'original_comment_len',\n",
    "                'comment_len',\n",
    "                'emoji_cluster'\n",
    "                ]\n",
    "    if not is_test:\n",
    "        column_set.append('score')\n",
    "    return result_df[column_set]"
   ]
  },
  {
   "cell_type": "code",
   "execution_count": null,
   "metadata": {},
   "outputs": [],
   "source": [
    "train_df = feature_extraction(train_df, is_test=False)\n",
    "dev_df = feature_extraction(dev_df, is_test=False)\n",
    "test_df = feature_extraction(test_df, is_test=True)"
   ]
  },
  {
   "cell_type": "code",
   "execution_count": null,
   "metadata": {},
   "outputs": [],
   "source": [
    "feature_set = train_df.columns.tolist()\n",
    "feature_set = [col for col in feature_set if col not in ['index', 'text', 'ckip_ws', 'cleaned_text', 'score']]"
   ]
  },
  {
   "cell_type": "code",
   "execution_count": null,
   "metadata": {},
   "outputs": [],
   "source": [
    "object_feature = [col for col in feature_set if train_df[col].dtype == 'object']\n",
    "object_feature"
   ]
  },
  {
   "cell_type": "code",
   "execution_count": null,
   "metadata": {},
   "outputs": [],
   "source": [
    "train_df.reset_index(drop=True, inplace=True)\n",
    "dev_df.reset_index(drop=True, inplace=True)\n",
    "test_df.reset_index(drop=True, inplace=True)"
   ]
  },
  {
   "cell_type": "code",
   "execution_count": null,
   "metadata": {},
   "outputs": [],
   "source": [
    "from gensim.models import Word2Vec"
   ]
  },
  {
   "cell_type": "code",
   "execution_count": null,
   "metadata": {},
   "outputs": [],
   "source": [
    "train_corpus = train_df['cleaned_text'].str.split(\" \").tolist()"
   ]
  },
  {
   "cell_type": "code",
   "execution_count": null,
   "metadata": {},
   "outputs": [],
   "source": [
    "param = {\n",
    "    \"vector_size\": 512,\n",
    "    \"window\": 5,\n",
    "    \"min_count\": 1,\n",
    "    \"workers\": 4\n",
    "}\n",
    "model = Word2Vec(sentences=train_corpus, **param)"
   ]
  },
  {
   "cell_type": "code",
   "execution_count": null,
   "metadata": {},
   "outputs": [],
   "source": [
    "model.train(train_corpus, \n",
    "            total_examples=model.corpus_count, \n",
    "            epochs=100)"
   ]
  },
  {
   "cell_type": "code",
   "execution_count": null,
   "metadata": {},
   "outputs": [],
   "source": [
    "def text_to_vector(text, model):\n",
    "    # 將文本分詞\n",
    "    words = text.split()\n",
    "    # 過濾掉不在詞彙表中的詞\n",
    "    words = [word for word in words if word in model.wv.key_to_index]\n",
    "    # 如果文本中沒有任何詞在詞彙表中，返回一個零向量\n",
    "    if not words:\n",
    "        return np.zeros(model.vector_size)\n",
    "    # 否則，計算所有詞向量的平均值\n",
    "    return np.mean([model.wv[word] for word in words], axis=0)"
   ]
  },
  {
   "cell_type": "code",
   "execution_count": null,
   "metadata": {},
   "outputs": [],
   "source": [
    "train_w2v = np.array(train_df['cleaned_text'].apply(lambda x: text_to_vector(x, model)).tolist())\n",
    "dev_w2v = np.array(dev_df['cleaned_text'].apply(lambda x: text_to_vector(x, model)).tolist())\n",
    "test_w2v = np.array(test_df['cleaned_text'].apply(lambda x: text_to_vector(x, model)).tolist())"
   ]
  },
  {
   "cell_type": "code",
   "execution_count": null,
   "metadata": {},
   "outputs": [],
   "source": [
    "vectorizer = TfidfVectorizer(token_pattern=r'\\b\\w+\\b')\n",
    "X = vectorizer.fit_transform(train_df['cleaned_text'])\n",
    "feature_names = vectorizer.get_feature_names_out()\n",
    "tfidf_dict = {word: vectorizer.idf_[i] for i, word in enumerate(feature_names)}"
   ]
  },
  {
   "cell_type": "code",
   "execution_count": null,
   "metadata": {},
   "outputs": [],
   "source": [
    "import pandas as pd\n",
    "from sklearn.feature_extraction.text import TfidfVectorizer\n",
    "from sklearn.model_selection import train_test_split\n",
    "from sklearn.ensemble import RandomForestClassifier\n",
    "from sklearn.metrics import accuracy_score"
   ]
  },
  {
   "cell_type": "code",
   "execution_count": null,
   "metadata": {},
   "outputs": [],
   "source": [
    "def weighted_word_vector(text, tfidf, w2v, dimension):\n",
    "    words = text.split()\n",
    "    word_tfidfs = [(word, tfidf.get(word, 0)) for word in words if word in w2v.wv]\n",
    "    word_tfidf_weights = [pair[1] for pair in word_tfidfs]\n",
    "    \n",
    "    if not word_tfidf_weights:\n",
    "        return np.zeros(dimension)\n",
    "    \n",
    "    word_vectors = np.array([w2v.wv[pair[0]] * pair[1] for pair in word_tfidfs])\n",
    "    weighted_vector = np.mean(word_vectors, axis=0)\n",
    "    return weighted_vector\n",
    "\n",
    "# 計算所有文本的加權向量"
   ]
  },
  {
   "cell_type": "code",
   "execution_count": null,
   "metadata": {},
   "outputs": [],
   "source": [
    "train_w2v = np.array(train_df['cleaned_text'].apply(lambda x: weighted_word_vector(x, tfidf_dict, model, model.vector_size)).tolist())\n",
    "dev_w2v = np.array(dev_df['cleaned_text'].apply(lambda x: weighted_word_vector(x, tfidf_dict, model, model.vector_size)).tolist())\n",
    "test_w2v = np.array(test_df['cleaned_text'].apply(lambda x: weighted_word_vector(x, tfidf_dict, model, model.vector_size)).tolist())"
   ]
  },
  {
   "cell_type": "code",
   "execution_count": null,
   "metadata": {},
   "outputs": [],
   "source": [
    "from sklearn.preprocessing import LabelEncoder\n",
    "label_encoder = LabelEncoder()\n",
    "\n",
    "train_y = label_encoder.fit_transform(train_df['score'])\n",
    "dev_y = label_encoder.transform(dev_df['score'])"
   ]
  },
  {
   "cell_type": "code",
   "execution_count": null,
   "metadata": {},
   "outputs": [],
   "source": [
    "import xgboost as xgb\n",
    "from sklearn.metrics import accuracy_score"
   ]
  },
  {
   "cell_type": "code",
   "execution_count": null,
   "metadata": {},
   "outputs": [],
   "source": [
    "from sklearn.ensemble import RandomForestClassifier\n",
    "\n",
    "clf = RandomForestClassifier(n_estimators=100)\n",
    "clf.fit(train_w2v, train_y)"
   ]
  },
  {
   "cell_type": "code",
   "execution_count": null,
   "metadata": {},
   "outputs": [],
   "source": [
    "dev_y_pred = clf.predict(dev_w2v)\n",
    "accuracy = accuracy_score(dev_y, dev_y_pred)\n",
    "print(accuracy)"
   ]
  },
  {
   "cell_type": "code",
   "execution_count": null,
   "metadata": {},
   "outputs": [],
   "source": [
    "test_y = clf.predict(test_w2v)\n",
    "test_y_pred_label = label_encoder.inverse_transform(test_y)"
   ]
  },
  {
   "cell_type": "code",
   "execution_count": null,
   "metadata": {},
   "outputs": [],
   "source": [
    "submission_file = test_df.copy()\n",
    "submission_file['pred'] = test_y_pred_label\n",
    "submission_file = submission_file[['index', 'pred']]\n",
    "submission_file.to_csv('../submission/submission.csv', index=False)"
   ]
  }
 ],
 "metadata": {
  "kernelspec": {
   "display_name": "arm64_torch",
   "language": "python",
   "name": "python3"
  },
  "language_info": {
   "codemirror_mode": {
    "name": "ipython",
    "version": 3
   },
   "file_extension": ".py",
   "mimetype": "text/x-python",
   "name": "python",
   "nbconvert_exporter": "python",
   "pygments_lexer": "ipython3",
   "version": "3.8.15"
  }
 },
 "nbformat": 4,
 "nbformat_minor": 2
}
